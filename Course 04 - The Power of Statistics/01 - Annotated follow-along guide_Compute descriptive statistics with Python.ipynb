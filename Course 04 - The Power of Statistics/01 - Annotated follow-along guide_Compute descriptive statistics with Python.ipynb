{
 "cells": [
  {
   "cell_type": "markdown",
   "metadata": {
    "id": "YcMLnmuehR-u"
   },
   "source": [
    "# Annotated follow-along guide: Compute descriptive statistics with Python\n",
    "\n",
    "This notebook contains the code used in the following instructional video: [Compute descriptive statistics with Python](https://www.coursera.org/learn/the-power-of-statistics/lecture/66jFw/compute-descriptive-statistics-with-python)."
   ]
  },
  {
   "cell_type": "markdown",
   "metadata": {},
   "source": [
    "## Introduction"
   ]
  },
  {
   "cell_type": "markdown",
   "metadata": {},
   "source": [
    "Throughout this notebook, we will practice computing descriptive statistics to explore and summarize a dataset. Before getting started, watch the associated instructional video and complete the in-video question. All of the code we will be implementing and related instructions are contained in this notebook."
   ]
  },
  {
   "cell_type": "markdown",
   "metadata": {
    "id": "xpgTkvekqNQi"
   },
   "source": [
    "## Overview\n",
    "\n",
    "Earlier in the program, you learned about the process of exploratory data analysis, or EDA, from discovering to presenting your data. Whenever a data professional works with a new dataset, the first step is to understand the context of the data during the discovering stage. Often, this involves discussing the data with project stakeholders and reading documentation about the dataset and the data collection process. After that, the data professional moves on to data cleaning and addresses issues like missing data, incorrect values, and irrelevant data. Computing descriptive stats is a common step to take after data cleaning. \n",
    "\n",
    "In this notebook, we will use descriptive stats to get a basic understanding of the literacy rate data for each district in your education dataset. \n"
   ]
  },
  {
   "cell_type": "markdown",
   "metadata": {},
   "source": [
    "## Import packages and libraries\n",
    "\n",
    "Before getting started, we will need to import all the required libraries and extensions. Throughout the course, we will be using pandas and numpy for operations and matplotlib for plotting."
   ]
  },
  {
   "cell_type": "code",
   "execution_count": 3,
   "metadata": {
    "id": "aLEbn0Zvfobu"
   },
   "outputs": [],
   "source": [
    "import numpy as np\n",
    "import pandas as pd\n",
    "import matplotlib.pyplot as plt"
   ]
  },
  {
   "cell_type": "code",
   "execution_count": 4,
   "metadata": {
    "id": "DVnUHl3JhIeZ"
   },
   "outputs": [],
   "source": [
    "education_districtwise = pd.read_csv('education_districtwise.csv')"
   ]
  },
  {
   "cell_type": "markdown",
   "metadata": {},
   "source": [
    "## Explore the data"
   ]
  },
  {
   "cell_type": "markdown",
   "metadata": {
    "id": "zHVg4qBvuJR5"
   },
   "source": [
    "Let's start with the `head() `function to get a quick overview of the dataset. Recall that `head()` will return as many rows of data as you input into the variable field."
   ]
  },
  {
   "cell_type": "code",
   "execution_count": 10,
   "metadata": {
    "colab": {
     "base_uri": "https://localhost:8080/",
     "height": 363
    },
    "id": "_USNQA97hIaV",
    "outputId": "c87d5731-7453-440d-eb9f-2d47d98b9e73"
   },
   "outputs": [
    {
     "data": {
      "text/html": [
       "<div>\n",
       "<style scoped>\n",
       "    .dataframe tbody tr th:only-of-type {\n",
       "        vertical-align: middle;\n",
       "    }\n",
       "\n",
       "    .dataframe tbody tr th {\n",
       "        vertical-align: top;\n",
       "    }\n",
       "\n",
       "    .dataframe thead th {\n",
       "        text-align: right;\n",
       "    }\n",
       "</style>\n",
       "<table border=\"1\" class=\"dataframe\">\n",
       "  <thead>\n",
       "    <tr style=\"text-align: right;\">\n",
       "      <th></th>\n",
       "      <th>DISTNAME</th>\n",
       "      <th>STATNAME</th>\n",
       "      <th>BLOCKS</th>\n",
       "      <th>VILLAGES</th>\n",
       "      <th>CLUSTERS</th>\n",
       "      <th>TOTPOPULAT</th>\n",
       "      <th>OVERALL_LI</th>\n",
       "    </tr>\n",
       "  </thead>\n",
       "  <tbody>\n",
       "    <tr>\n",
       "      <th>670</th>\n",
       "      <td>DISTRICT371</td>\n",
       "      <td>STATE29</td>\n",
       "      <td>52</td>\n",
       "      <td>1555</td>\n",
       "      <td>233</td>\n",
       "      <td>2737738.0</td>\n",
       "      <td>61.55</td>\n",
       "    </tr>\n",
       "    <tr>\n",
       "      <th>671</th>\n",
       "      <td>DISTRICT620</td>\n",
       "      <td>STATE29</td>\n",
       "      <td>36</td>\n",
       "      <td>822</td>\n",
       "      <td>129</td>\n",
       "      <td>2552073.0</td>\n",
       "      <td>62.25</td>\n",
       "    </tr>\n",
       "    <tr>\n",
       "      <th>672</th>\n",
       "      <td>DISTRICT477</td>\n",
       "      <td>STATE29</td>\n",
       "      <td>57</td>\n",
       "      <td>1045</td>\n",
       "      <td>203</td>\n",
       "      <td>3811738.0</td>\n",
       "      <td>64.87</td>\n",
       "    </tr>\n",
       "    <tr>\n",
       "      <th>673</th>\n",
       "      <td>DISTRICT599</td>\n",
       "      <td>STATE29</td>\n",
       "      <td>46</td>\n",
       "      <td>1214</td>\n",
       "      <td>184</td>\n",
       "      <td>3031877.0</td>\n",
       "      <td>62.53</td>\n",
       "    </tr>\n",
       "    <tr>\n",
       "      <th>674</th>\n",
       "      <td>DISTRICT136</td>\n",
       "      <td>STATE29</td>\n",
       "      <td>16</td>\n",
       "      <td>71</td>\n",
       "      <td>48</td>\n",
       "      <td>4010238.0</td>\n",
       "      <td>80.96</td>\n",
       "    </tr>\n",
       "    <tr>\n",
       "      <th>675</th>\n",
       "      <td>DISTRICT522</td>\n",
       "      <td>STATE29</td>\n",
       "      <td>37</td>\n",
       "      <td>876</td>\n",
       "      <td>137</td>\n",
       "      <td>5296396.0</td>\n",
       "      <td>78.05</td>\n",
       "    </tr>\n",
       "    <tr>\n",
       "      <th>676</th>\n",
       "      <td>DISTRICT498</td>\n",
       "      <td>STATE29</td>\n",
       "      <td>64</td>\n",
       "      <td>1458</td>\n",
       "      <td>230</td>\n",
       "      <td>4042191.0</td>\n",
       "      <td>56.06</td>\n",
       "    </tr>\n",
       "    <tr>\n",
       "      <th>677</th>\n",
       "      <td>DISTRICT343</td>\n",
       "      <td>STATE29</td>\n",
       "      <td>59</td>\n",
       "      <td>1117</td>\n",
       "      <td>216</td>\n",
       "      <td>3483648.0</td>\n",
       "      <td>65.05</td>\n",
       "    </tr>\n",
       "    <tr>\n",
       "      <th>678</th>\n",
       "      <td>DISTRICT130</td>\n",
       "      <td>STATE29</td>\n",
       "      <td>51</td>\n",
       "      <td>993</td>\n",
       "      <td>211</td>\n",
       "      <td>3522644.0</td>\n",
       "      <td>66.16</td>\n",
       "    </tr>\n",
       "    <tr>\n",
       "      <th>679</th>\n",
       "      <td>DISTRICT341</td>\n",
       "      <td>STATE29</td>\n",
       "      <td>41</td>\n",
       "      <td>783</td>\n",
       "      <td>185</td>\n",
       "      <td>2798214.0</td>\n",
       "      <td>65.46</td>\n",
       "    </tr>\n",
       "  </tbody>\n",
       "</table>\n",
       "</div>"
      ],
      "text/plain": [
       "        DISTNAME STATNAME  BLOCKS  VILLAGES  CLUSTERS  TOTPOPULAT  OVERALL_LI\n",
       "670  DISTRICT371  STATE29      52      1555       233   2737738.0       61.55\n",
       "671  DISTRICT620  STATE29      36       822       129   2552073.0       62.25\n",
       "672  DISTRICT477  STATE29      57      1045       203   3811738.0       64.87\n",
       "673  DISTRICT599  STATE29      46      1214       184   3031877.0       62.53\n",
       "674  DISTRICT136  STATE29      16        71        48   4010238.0       80.96\n",
       "675  DISTRICT522  STATE29      37       876       137   5296396.0       78.05\n",
       "676  DISTRICT498  STATE29      64      1458       230   4042191.0       56.06\n",
       "677  DISTRICT343  STATE29      59      1117       216   3483648.0       65.05\n",
       "678  DISTRICT130  STATE29      51       993       211   3522644.0       66.16\n",
       "679  DISTRICT341  STATE29      41       783       185   2798214.0       65.46"
      ]
     },
     "execution_count": 10,
     "metadata": {},
     "output_type": "execute_result"
    }
   ],
   "source": [
    "education_districtwise.tail(10)"
   ]
  },
  {
   "cell_type": "markdown",
   "metadata": {
    "id": "9zcQ8Zllk_t7"
   },
   "source": [
    "**Note**: To interpret this data correctly, it’s important to understand that each row, or observation, refers to a different *district* (and not, for example, to a state or a village). So, the `VILLAGES` column indicates how many villages are in each district, the `TOTPOPULAT` column indicates the population for each district, and the `OVERALL_LI` column indicates the literacy rate for each district. "
   ]
  },
  {
   "cell_type": "markdown",
   "metadata": {
    "id": "ZFtze1WLnx41"
   },
   "source": [
    "### Use describe() to compute descriptive stats\n",
    "\n",
    "Now that we have a better understanding of the dataset, let's use Python to compute descriptive stats. \n",
    "\n",
    "When computing descriptive stats in Python, the most useful function to know is `describe()`. Data professionals use the `describe()` function as a convenient way to calculate many key stats all at once. For a numeric column, `describe()` gives you the following output: \n",
    "\n",
    "*   `count`: Number of non-NA/null observations\n",
    "*   `mean`: The arithmetic average\n",
    "*   `std`: The standard deviation\n",
    "*   `min`: The smallest (minimum) value\n",
    "*   `25%`: The first quartile (25th percentile)\n",
    "*   `50%`: The median (50th percentile) \n",
    "*   `75%`: The third quartile (75th percentile)\n",
    "*   `max`: The largest (maximum) value\n",
    "\n",
    "\n",
    "**Reference**: [pandas.DataFrame.describe](https://pandas.pydata.org/docs/reference/api/pandas.DataFrame.describe.html)"
   ]
  },
  {
   "cell_type": "markdown",
   "metadata": {
    "id": "mvn_jAS8lmxK"
   },
   "source": [
    "Our main interest is the literacy rate. This data is contained in the `OVERALL_LI` column, which shows the literacy rate for each district in the nation. Use the `describe()` function to reveal key stats about literacy rate. "
   ]
  },
  {
   "cell_type": "code",
   "execution_count": 4,
   "metadata": {
    "colab": {
     "base_uri": "https://localhost:8080/"
    },
    "id": "P4Q47bqThIRE",
    "outputId": "32cd8afd-e83f-4aae-b28b-689191bd8a12"
   },
   "outputs": [
    {
     "data": {
      "text/plain": [
       "count    634.000000\n",
       "mean      73.395189\n",
       "std       10.098460\n",
       "min       37.220000\n",
       "25%       66.437500\n",
       "50%       73.490000\n",
       "75%       80.815000\n",
       "max       98.760000\n",
       "Name: OVERALL_LI, dtype: float64"
      ]
     },
     "execution_count": 4,
     "metadata": {},
     "output_type": "execute_result"
    }
   ],
   "source": [
    "education_districtwise['OVERALL_LI'].describe()"
   ]
  },
  {
   "cell_type": "markdown",
   "metadata": {
    "id": "-AaNcM-DUlqt"
   },
   "source": [
    "The summary of stats gives us valuable information about the overall literacy rate. For example, the mean helps to clarify the center of your dataset; we now know the average literacy rate is about 73% for all districts. This information is useful in itself and also as a basis for comparison. Knowing the mean literacy rate for *all* districts helps us understand which individual districts are significantly above or below the mean. "
   ]
  },
  {
   "cell_type": "markdown",
   "metadata": {
    "id": "3NyynHXhqlHC"
   },
   "source": [
    "**Note**: `describe()` excludes missing values (`NaN`) in the dataset from consideration. You may notice that the count, or the number of observations for `OVERALL_LI` (634), is fewer than the number of rows in the dataset (680). Dealing with missing values is a complex issue outside the scope of this course."
   ]
  },
  {
   "cell_type": "markdown",
   "metadata": {
    "id": "bn3XWoGmkgq_"
   },
   "source": [
    "You can also use the `describe()` function for a column with categorical data, like the `STATNAME` column. \n",
    "\n",
    "For a categorical column, `describe()` gives you the following output: \n",
    "\n",
    "*   `count`: Number of non-NA/null observations\n",
    "*  `unique`: Number of unique values\n",
    "*   `top`: The most common value (the mode)\n",
    "*   `freq`: The frequency of the most common value\n"
   ]
  },
  {
   "cell_type": "code",
   "execution_count": 5,
   "metadata": {
    "colab": {
     "base_uri": "https://localhost:8080/"
    },
    "id": "sJpVSrSbGBo0",
    "outputId": "0067dba0-35f5-4bce-b057-d814f6d82516"
   },
   "outputs": [
    {
     "data": {
      "text/plain": [
       "count         680\n",
       "unique         36\n",
       "top       STATE21\n",
       "freq           75\n",
       "Name: STATNAME, dtype: object"
      ]
     },
     "execution_count": 5,
     "metadata": {},
     "output_type": "execute_result"
    }
   ],
   "source": [
    "education_districtwise['STATNAME'].describe()"
   ]
  },
  {
   "cell_type": "markdown",
   "metadata": {
    "id": "x9BvUb_x_ROX"
   },
   "source": [
    "The `unique` category indicates that there are 36 states in our dataset. The `top` category indicates that `STATE21` is the most commonly occurring value, or mode. The `frequency` category tells you that `STATE21` appears in 75 rows, which means it includes 75 different districts. \n",
    "\n",
    "This information may be helpful in determining which states will need more educational resources based on their number of districts. "
   ]
  },
  {
   "cell_type": "markdown",
   "metadata": {
    "id": "o0r7-OzTxILC"
   },
   "source": [
    "### Functions for stats\n",
    "\n",
    "The `describe()` function is also useful because it reveals a variety of key stats all at once. Python also has separate functions for the mean, median, standard deviation, minimum, and maximum. Earlier in the program, you used `mean()` and `median()` to detect outliers. These individual functions are also useful if you want to do further computations based on descriptive stats. For example, you can use the `min()` and `max()` functions together to compute the range of your data.\n"
   ]
  },
  {
   "cell_type": "markdown",
   "metadata": {
    "id": "CRedWXkaxXD_"
   },
   "source": [
    "### Use max() and min() to compute range\n"
   ]
  },
  {
   "cell_type": "markdown",
   "metadata": {
    "id": "bzQuYAFxK21G"
   },
   "source": [
    "Recall that the **range** is the difference between the largest and smallest values in a dataset. In other words, range = max - min. You can use `max()` and `min()` to compute the range for the literacy rate of all districts in your dataset. "
   ]
  },
  {
   "cell_type": "code",
   "execution_count": 6,
   "metadata": {
    "colab": {
     "base_uri": "https://localhost:8080/"
    },
    "id": "lGcji8APzne4",
    "outputId": "f5def77c-bf94-4e22-d0e6-2a22e8d59963"
   },
   "outputs": [
    {
     "data": {
      "text/plain": [
       "61.540000000000006"
      ]
     },
     "execution_count": 6,
     "metadata": {},
     "output_type": "execute_result"
    }
   ],
   "source": [
    "range_overall_li = education_districtwise['OVERALL_LI'].max() - education_districtwise['OVERALL_LI'].min()\n",
    "range_overall_li"
   ]
  },
  {
   "cell_type": "markdown",
   "metadata": {
    "id": "BMZVzc4_tIyk"
   },
   "source": [
    "The range in literacy rates for all districts is about 61.5 percentage points. \n",
    "\n",
    "This large difference tells you that some districts have much higher literacy rates than others. Later on, you will continue to analyze this data, and you can discover which districts have the lowest literacy rates. This will help the government better understand literacy rates nationally and build on their successful educational programs. "
   ]
  }
 ],
 "metadata": {
  "colab": {
   "provenance": [
    {
     "file_id": "1QhWf8U2OhAnrxuxX0L88zdAzkyALqPDV",
     "timestamp": 1662732459438
    },
    {
     "file_id": "1D4ebRX4x5WDHi2U8kFpXKMhAbJGTK8dH",
     "timestamp": 1657660876844
    }
   ]
  },
  "kernelspec": {
   "display_name": "Python 3 (ipykernel)",
   "language": "python",
   "name": "python3"
  },
  "language_info": {
   "codemirror_mode": {
    "name": "ipython",
    "version": 3
   },
   "file_extension": ".py",
   "mimetype": "text/x-python",
   "name": "python",
   "nbconvert_exporter": "python",
   "pygments_lexer": "ipython3",
   "version": "3.12.4"
  }
 },
 "nbformat": 4,
 "nbformat_minor": 4
}
